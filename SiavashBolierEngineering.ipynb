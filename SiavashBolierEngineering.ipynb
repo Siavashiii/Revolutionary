{
  "nbformat": 4,
  "nbformat_minor": 0,
  "metadata": {
    "colab": {
      "provenance": []
    },
    "kernelspec": {
      "name": "python3",
      "display_name": "Python 3"
    },
    "language_info": {
      "name": "python"
    }
  },
  "cells": [
    {
      "cell_type": "code",
      "execution_count": null,
      "metadata": {
        "colab": {
          "base_uri": "https://localhost:8080/",
          "height": 509
        },
        "id": "JRTlckerOq4h",
        "outputId": "9fde370b-9af7-40ec-d35c-df8461883674"
      },
      "outputs": [
        {
          "output_type": "stream",
          "name": "stdout",
          "text": [
            "Best solution found: Solution with parameters: [0.10917339611707932, 1.551411243553924, 0.5269438373378565, 0.5863302209734411, 0.7539131819343403]\n",
            "Fitness of the best solution: 3.5277718799166413\n"
          ]
        },
        {
          "output_type": "display_data",
          "data": {
            "text/plain": [
              "<Figure size 640x480 with 1 Axes>"
            ],
            "image/png": "[encoded data removed]"
          },
          "metadata": {}
        }
      ],
      "source": [
        "import numpy as np\n",
        "import matplotlib.pyplot as plt\n",
        "import random\n",
        "\n",
        "# Define a hypothetical Solution class for the boiler design problem\n",
        "class Solution:\n",
        "    def __init__(self, parameters):\n",
        "        self.parameters = parameters  # parameters representing design variables\n",
        "\n",
        "    def calculate_fitness(self):\n",
        "        # A hypothetical fitness calculation for a boiler design\n",
        "        # Lower values are considered better in this example\n",
        "        return np.sum(self.parameters)\n",
        "\n",
        "    def __repr__(self):\n",
        "        return f\"Solution with parameters: {self.parameters}\"\n",
        "\n",
        "# Modify the initial population generator to create design solutions\n",
        "def generate_initial_population(pop_size, num_parameters):\n",
        "    population = []\n",
        "    for _ in range(pop_size):\n",
        "        # Generate random values for each parameter within a specific range\n",
        "        parameters = np.random.uniform(low=0, high=100, size=num_parameters)\n",
        "        population.append(Solution(parameters))\n",
        "    return population\n",
        "\n",
        "# GeneticAlgorithm class handles the evolution of solutions\n",
        "class GeneticAlgorithm:\n",
        "    def __init__(self, pop_size, num_parameters, max_generations, mutation_rate):\n",
        "        self.pop_size = pop_size\n",
        "        self.num_parameters = num_parameters\n",
        "        self.max_generations = max_generations\n",
        "        self.mutation_rate = mutation_rate\n",
        "        self.population = generate_initial_population(pop_size, num_parameters)\n",
        "        self.fitness_curve = []\n",
        "\n",
        "    def calculate_fitness(self, solution):\n",
        "        return solution.calculate_fitness()\n",
        "\n",
        "    def select_parents(self):\n",
        "        # Sort the population based on fitness and select the top half\n",
        "        sorted_population = sorted(self.population, key=self.calculate_fitness)\n",
        "        return sorted_population[:len(sorted_population)//2]\n",
        "\n",
        "    def crossover(self, parent1, parent2):\n",
        "        # Create a child with a mix of parameters from both parents\n",
        "        child_parameters = []\n",
        "        for i in range(self.num_parameters):\n",
        "            if random.random() > 0.5:\n",
        "                child_parameters.append(parent1.parameters[i])\n",
        "            else:\n",
        "                child_parameters.append(parent2.parameters[i])\n",
        "        return Solution(child_parameters)\n",
        "\n",
        "    def mutate(self, solution):\n",
        "        # Mutate a solution's parameters based on the mutation rate\n",
        "        for i in range(self.num_parameters):\n",
        "            if random.random() < self.mutation_rate:\n",
        "                solution.parameters[i] = np.random.uniform(low=0, high=100)\n",
        "        return solution\n",
        "\n",
        "    def evolve_population(self):\n",
        "        # Create a new generation using selection, crossover, and mutation\n",
        "        parents = self.select_parents()\n",
        "        children = []\n",
        "        while len(children) < self.pop_size:\n",
        "            parent1, parent2 = random.sample(parents, 2)\n",
        "            child = self.crossover(parent1, parent2)\n",
        "            child = self.mutate(child)\n",
        "            children.append(child)\n",
        "        self.population = children\n",
        "\n",
        "    def run(self):\n",
        "        for generation in range(self.max_generations):\n",
        "            self.evolve_population()\n",
        "            # Calculate the fitness for plotting\n",
        "            best_solution = min(self.population, key=self.calculate_fitness)\n",
        "            self.fitness_curve.append(self.calculate_fitness(best_solution))\n",
        "\n",
        "# Define the boiler design problem and solve it using the genetic algorithm\n",
        "class BoilerDesignProblem:\n",
        "    def __init__(self, num_parameters=5, pop_size=100, max_generations=100, mutation_rate=0.01):\n",
        "        self.ga = GeneticAlgorithm(pop_size, num_parameters, max_generations, mutation_rate)\n",
        "\n",
        "    def solve(self):\n",
        "        self.ga.run()\n",
        "        best_solution = min(self.ga.population, key=self.ga.calculate_fitness)\n",
        "        print(f\"Best solution found: {best_solution}\")\n",
        "        print(f\"Fitness of the best solution: {self.ga.calculate_fitness(best_solution)}\")\n",
        "\n",
        "    def plot_fitness_curve(self):\n",
        "        plt.plot(self.ga.fitness_curve)\n",
        "        plt.title('Fitness Curve')\n",
        "        plt.xlabel('Generation')\n",
        "        plt.ylabel('Fitness')\n",
        "        plt.show()\n",
        "\n",
        "if __name__ == \"__main__\":\n",
        "    boiler_problem = BoilerDesignProblem()\n",
        "    boiler_problem.solve()\n",
        "    boiler_problem.plot_fitness_curve()\n"
      ]
    }
  ]
}